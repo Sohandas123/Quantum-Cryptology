{
 "cells": [
  {
   "cell_type": "markdown",
   "id": "cb017703",
   "metadata": {},
   "source": [
    "Implement Quantum True Random Number Generator (QTRNG)"
   ]
  },
  {
   "cell_type": "markdown",
   "id": "8e48480b",
   "metadata": {},
   "source": [
    "Implementation of QTRNG\n",
    "\n",
    "Using Hadamard gate on |0> we can obtain the state (1/root(2))(|0> + |1>) and when we measure this state with computational basis { |0> , |1> } then we will get |0> with probability 1/2 and |1> with probability 1/2 . So it's output is truely random in nature. Below we have implemented it."
   ]
  },
  {
   "cell_type": "code",
   "execution_count": 60,
   "id": "a817ca81",
   "metadata": {},
   "outputs": [
    {
     "name": "stdout",
     "output_type": "stream",
     "text": [
      "1 1 0 0 0 1 1 1 1 0 1 0 1 0 0 1 0 0 1 1 "
     ]
    },
    {
     "data": {
      "text/html": [
       "<pre style=\"word-wrap: normal;white-space: pre;background: #fff0;line-height: 1.1;font-family: &quot;Courier New&quot;,Courier,monospace\">        ┌───┐┌─┐\n",
       " q3749: ┤ H ├┤M├\n",
       "        └───┘└╥┘\n",
       "c748: 1/══════╩═\n",
       "              0 </pre>"
      ],
      "text/plain": [
       "        ┌───┐┌─┐\n",
       " q3749: ┤ H ├┤M├\n",
       "        └───┘└╥┘\n",
       "c748: 1/══════╩═\n",
       "              0 "
      ]
     },
     "execution_count": 60,
     "metadata": {},
     "output_type": "execute_result"
    }
   ],
   "source": [
    "#importing the required classes and modules.\n",
    "from qiskit import QuantumRegister, ClassicalRegister\n",
    "from qiskit import QuantumCircuit, Aer, execute\n",
    "from qiskit.visualization import plot_histogram\n",
    "\n",
    "countInOneList = []\n",
    "for i in range(20) :\n",
    "    q = QuantumRegister(1)\n",
    "    c = ClassicalRegister(1)\n",
    "    qc = QuantumCircuit(q,c)\n",
    "     \n",
    "    qc.h(q)     # Hadamard gate is applied on q which is by default initialized as |0>\n",
    "    qc.measure(q,c)\n",
    "    \n",
    "    backend = Aer.get_backend('qasm_simulator')\n",
    "    qjob = execute(qc, backend, shots = 1)\n",
    "    counts = qjob.result().get_counts()\n",
    "    for key in counts.keys() :\n",
    "        print(key, end = \" \")\n",
    "        countInOneList.append(key)\n",
    "    \n",
    "#draw the circuit        \n",
    "qc.draw()"
   ]
  },
  {
   "cell_type": "code",
   "execution_count": 38,
   "id": "beeb7c18",
   "metadata": {},
   "outputs": [
    {
     "name": "stdout",
     "output_type": "stream",
     "text": [
      "\n",
      "Tota counts for 0 and 1 are : ['0', '1', '0', '0', '1', '0', '0', '0', '0', '1', '1', '0', '1', '0', '0', '1', '1', '1', '0', '1', '0', '1', '1', '1', '1', '0', '1', '0']\n"
     ]
    }
   ],
   "source": [
    "print(\"\\nTota counts for 0 and 1 are :\",countInOneList)"
   ]
  },
  {
   "cell_type": "markdown",
   "id": "a00b65a4",
   "metadata": {},
   "source": [
    "To observe the probability of |0> and |1> in the state H( |1> ) we take 1000 shots and plot the histogram"
   ]
  },
  {
   "cell_type": "code",
   "execution_count": 89,
   "id": "a9b15b3c",
   "metadata": {},
   "outputs": [
    {
     "name": "stdout",
     "output_type": "stream",
     "text": [
      "{'0': 475, '1': 525}\n"
     ]
    },
    {
     "data": {
      "image/png": "[encoded data removed]",
      "text/plain": [
       "<Figure size 700x500 with 1 Axes>"
      ]
     },
     "execution_count": 89,
     "metadata": {},
     "output_type": "execute_result"
    }
   ],
   "source": [
    "#importing the required classes and modules.\n",
    "from qiskit import QuantumRegister, ClassicalRegister\n",
    "from qiskit import QuantumCircuit, Aer, execute\n",
    "from qiskit.visualization import plot_histogram\n",
    "\n",
    "#for i in range(20) :\n",
    "q = QuantumRegister(1)\n",
    "c = ClassicalRegister(1)\n",
    "qc = QuantumCircuit(q,c)\n",
    "\n",
    "qc.x(q)     # Applying NOT gate on q which is by default initialized as |0>\n",
    "qc.h(q)     # Hadamard gate is applied on q\n",
    "qc.measure(q,c)\n",
    "\n",
    "backend = Aer.get_backend('qasm_simulator')\n",
    "qjob = execute(qc, backend, shots = 1000)\n",
    "counts = qjob.result().get_counts()\n",
    "\n",
    "print(counts)\n",
    "plot_histogram(counts)"
   ]
  }
 ],
 "metadata": {
  "kernelspec": {
   "display_name": "Python 3 (ipykernel)",
   "language": "python",
   "name": "python3"
  },
  "language_info": {
   "codemirror_mode": {
    "name": "ipython",
    "version": 3
   },
   "file_extension": ".py",
   "mimetype": "text/x-python",
   "name": "python",
   "nbconvert_exporter": "python",
   "pygments_lexer": "ipython3",
   "version": "3.9.12"
  }
 },
 "nbformat": 4,
 "nbformat_minor": 5
}
