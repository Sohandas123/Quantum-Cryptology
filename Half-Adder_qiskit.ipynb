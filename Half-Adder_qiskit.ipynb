{
 "cells": [
  {
   "cell_type": "markdown",
   "id": "efe83bfe",
   "metadata": {},
   "source": [
    "Half-Adder Implementation"
   ]
  },
  {
   "cell_type": "code",
   "execution_count": 1,
   "id": "de9cee5f",
   "metadata": {},
   "outputs": [
    {
     "name": "stdout",
     "output_type": "stream",
     "text": [
      "{'0110': 1}\n"
     ]
    },
    {
     "data": {
      "text/html": [
       "<pre style=\"word-wrap: normal;white-space: pre;background: #fff0;line-height: 1.1;font-family: &quot;Courier New&quot;,Courier,monospace\">           ┌──────┐┌──────────┐   ┌─┐      \n",
       "q0_0: ─────┤0     ├┤0         ├───┤M├──────\n",
       "      ┌───┐│      ││          │   └╥┘┌─┐   \n",
       "q0_1: ┤ X ├┤1 xor ├┤1         ├────╫─┤M├───\n",
       "      └───┘│      ││  xor_and │┌─┐ ║ └╥┘   \n",
       "q0_2: ─────┤2     ├┤          ├┤M├─╫──╫────\n",
       "           └──────┘│          │└╥┘ ║  ║ ┌─┐\n",
       "q0_3: ─────────────┤2         ├─╫──╫──╫─┤M├\n",
       "                   └──────────┘ ║  ║  ║ └╥┘\n",
       "c0: 4/══════════════════════════╩══╩══╩══╩═\n",
       "                                1  3  2  0 </pre>"
      ],
      "text/plain": [
       "           ┌──────┐┌──────────┐   ┌─┐      \n",
       "q0_0: ─────┤0     ├┤0         ├───┤M├──────\n",
       "      ┌───┐│      ││          │   └╥┘┌─┐   \n",
       "q0_1: ┤ X ├┤1 xor ├┤1         ├────╫─┤M├───\n",
       "      └───┘│      ││  xor_and │┌─┐ ║ └╥┘   \n",
       "q0_2: ─────┤2     ├┤          ├┤M├─╫──╫────\n",
       "           └──────┘│          │└╥┘ ║  ║ ┌─┐\n",
       "q0_3: ─────────────┤2         ├─╫──╫──╫─┤M├\n",
       "                   └──────────┘ ║  ║  ║ └╥┘\n",
       "c0: 4/══════════════════════════╩══╩══╩══╩═\n",
       "                                1  3  2  0 "
      ]
     },
     "execution_count": 1,
     "metadata": {},
     "output_type": "execute_result"
    }
   ],
   "source": [
    "from qiskit import QuantumRegister, ClassicalRegister\n",
    "from qiskit import Aer, execute, QuantumCircuit\n",
    "\n",
    "# Building XOR function (say) xor(x,y,z) = (x, y, x+y+z (mod 2))\n",
    "sub_circuit = QuantumCircuit(3, name='xor')\n",
    "sub_circuit.cx(0,2)\n",
    "sub_circuit.cx(1,2)\n",
    "xor = sub_circuit.to_instruction()\n",
    "\n",
    "# Building XOR_AND function (say) xor_and(x,y,z) = (x, y, z + x.y (mod 2))\n",
    "# we are saying it AND by considering z = 0\n",
    "oracl = QuantumCircuit(3, name='xor_and')\n",
    "oracl.ccx(0,1,2)\n",
    "xor_and = oracl.to_instruction()\n",
    "\n",
    "q = QuantumRegister(4)\n",
    "c = ClassicalRegister(4)\n",
    "d = ClassicalRegister(4)\n",
    "qc = QuantumCircuit(q,c)\n",
    "\n",
    "qc.x(q[1]) # setting inputs 0 1 0 0\n",
    "\n",
    "qc.append(xor,[q[0],q[1],q[2]])  # Sum +x +y\n",
    "qc.append(xor_and,[0,1,3])       # Carry + x.y\n",
    "\n",
    "for i in range(4) :\n",
    "    qc.measure(q[i],c[3-i])   # We did this for reading classical bits from left to right\n",
    "\n",
    "#Executing the circuit in the simulator\n",
    "backend = Aer.get_backend('qasm_simulator')\n",
    "qjob = execute(qc, backend, shots =1)\n",
    "count = qjob.result().get_counts()\n",
    "print(count)\n",
    "\n",
    "qc.draw()"
   ]
  }
 ],
 "metadata": {
  "kernelspec": {
   "display_name": "Python 3 (ipykernel)",
   "language": "python",
   "name": "python3"
  },
  "language_info": {
   "codemirror_mode": {
    "name": "ipython",
    "version": 3
   },
   "file_extension": ".py",
   "mimetype": "text/x-python",
   "name": "python",
   "nbconvert_exporter": "python",
   "pygments_lexer": "ipython3",
   "version": "3.9.12"
  }
 },
 "nbformat": 4,
 "nbformat_minor": 5
}
